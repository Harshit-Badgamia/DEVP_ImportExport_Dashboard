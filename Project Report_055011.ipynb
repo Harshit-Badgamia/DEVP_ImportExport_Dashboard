{
 "cells": [
  {
   "cell_type": "markdown",
   "id": "312f144b-a149-4469-8898-89fc24d0b407",
   "metadata": {},
   "source": [
    "# **Data Visualization (Dashboard) with Python using Pandas, Numpy, Matplotlib & Streamlit Libraries**\n",
    "\n",
    "# 1. Project Information\n",
    "* **Student Name: Harshit Badgamia**\n",
    "* **Enrollment Number: 055011**\n",
    "* **Data Source** =    **[Imports_Exports_Dataset on Kaggle](https://www.kaggle.com/datasets/chakilamvishwas/imports-exports-15000)**\n",
    "\n",
    "---"
   ]
  },
  {
   "cell_type": "markdown",
   "id": "80f7fac8-2b5b-49bb-bfe6-52d0c4503a59",
   "metadata": {},
   "source": [
    "# 2. Description of Data"
   ]
  },
  {
   "cell_type": "markdown",
   "id": "4b7c9f02-be53-4037-b87e-cd70cf131463",
   "metadata": {},
   "source": [
    "## About Dataset\n",
    "**Title:** Detailed Imports and Exports Dataset with Comprehensive Transaction Information\n",
    "\n",
    "**Description:**\n",
    "\n",
    "This dataset provides detailed information on international trade transactions, capturing both import and export activities. It includes comprehensive data on various aspects of trade, making it a valuable resource for business analysis, economic research, and financial modeling.\n",
    "\n",
    "**Features:**\n",
    "\n",
    "* **Transaction_ID:** Unique identifier for each trade transaction.\n",
    "* **Country:** Country of origin or destination for the trade.\n",
    "* **Product:** Product being traded.\n",
    "* **Import_Export:** Indicates whether the transaction is an import or export.\n",
    "* **Quantity:** Amount of the product traded.\n",
    "* **Value:** Monetary value of the product in USD.\n",
    "* **Date:** Date of the transaction.\n",
    "* **Category:** Category of the product (e.g., Electronics, Clothing, Machinery).\n",
    "* **Port:** Port of entry or departure.\n",
    "* **Customs_Code:** Customs or HS code for product classification.\n",
    "* **Weight:** Weight of the product in kilograms.\n",
    "* **Shipping_Method:** Method used for shipping (e.g., Air, Sea, Land).\n",
    "* **Supplier:** Name of the supplier or manufacturer.\n",
    "* **Customer:** Name of the customer or recipient.\n",
    "* **Invoice_Number:** Unique invoice number for the transaction.\n",
    "* **Payment_Terms:** Terms of payment (e.g., Net 30, Net 60, Cash on Delivery).\n",
    "\n",
    "\n",
    "\n",
    "\n",
    "***Usage:*** This dataset can be used for various analyses, including:\n",
    "\n",
    "\n",
    "* **Trade Analysis:** Understanding trade patterns and trends.\n",
    "* **Economic Research:** Studying the impact of trade on different economies.\n",
    "* **Financial Modeling:** Evaluating financial performance and risks associated with trade.\n",
    "* **Supply Chain Management:** Analyzing logistics and shipping methods."
   ]
  },
  {
   "cell_type": "markdown",
   "id": "97598d9b-ea3d-4dd3-ae31-5c626b06d599",
   "metadata": {},
   "source": [
    "**Data Type**: Panel\n"
   ]
  },
  {
   "cell_type": "markdown",
   "id": "766d3166-8468-49ce-aa86-c9e50ec66351",
   "metadata": {},
   "source": [
    "**Variable Types:**\n",
    "1) **Text** - Transaction_ID, Country, Product, Import_Export, Date, Category, Port, Shipping_Method, Supplier, Customer, Payment_Terms\n",
    "2) **Number- Integer** - Quantity, Customs_Code, Invoice_Number\n",
    "3) **Number- Decimals** - Value, Weight"
   ]
  },
  {
   "cell_type": "markdown",
   "id": "17e48b4a-450f-42c8-b85d-366481674d41",
   "metadata": {},
   "source": [
    "**Data Variable Category:**\n",
    "1. **Index**- Transaction_ID, Customs_Code, Invoice_Number, Product, Supplier, Customer\n",
    "2. **Categorical- Nominal** - Import_Export, Category, Shipping_Method, Payment_Terms, Country\n",
    "3. **Categorical- Ordinal** - \n",
    "4. **Non-Categorical**-  Quantity, Value, Date, Port, Weight"
   ]
  },
  {
   "cell_type": "markdown",
   "id": "80d168bf-1aef-40e9-bd39-b9fc975eb793",
   "metadata": {},
   "source": [
    "# 3. Problem Statement\n",
    "\n",
    "The dataset used in this analysis contains imports and exports data. The goal is to explore, analyse and visualise this dataset to uncover patterns and insights related to trade statistics. We will perform data wrangling, visualization, and analysis to derive actionable insights."
   ]
  },
  {
   "cell_type": "markdown",
   "id": "92f97cb4-0e6b-4fa0-bb3c-84024243f229",
   "metadata": {},
   "source": [
    "# Objectives\n",
    "\n",
    "1. Data Loading and Inspectiont\n",
    "2. Data Cleaninet\n",
    "3. Data Sampliion\n",
    "4. Creating Dashboard\n",
    "5. Feature Engineetions\n",
    "6. Insights and Recommendations"
   ]
  },
  {
   "cell_type": "markdown",
   "id": "973c9368-becf-4372-a6ca-d5560c348ed5",
   "metadata": {},
   "source": [
    "# 4. Analysis of Data"
   ]
  },
  {
   "cell_type": "markdown",
   "id": "3f2cab9d-2cb1-4406-9f50-28b8fb3c50f0",
   "metadata": {},
   "source": [
    "* The pie chart indicates that exports (50.9%) and imports (49.1%) are nearly equal, with exports slightly dominating.\n",
    "<img src=\"Project Pics/pie.png\" alt=\"Alt Text\" style=\"width:400px;\"/>\n",
    "\n",
    "\n",
    "\n",
    "* The horizontal bar chart illustrates the distribution of preferred payment modes, with \"Net 60\" and \"Cash on Delivery\" being the most popular options.<img src=\"Project Pics/hor.png\" alt=\"Alt Text\" style=\"width:400px;\"/>\n",
    "}\n",
    "\n",
    "\n",
    "* The stacked bar chart shows the number of transactions categorized by product type (e.g., Electronics, Toys, Furniture, Machinery). Each category illustrates the balance of export versus import transactions<img src=\"Project Pics/bar.png\" alt=\"Alt Text\" style=\"width:400px;\"/>\n",
    "\"}\n",
    "\n",
    "\n",
    "* The line graph indicates monthly variations in the average value of transactions, with noticeable peaks and troughs throughout the year<img src=\"Project Pics/line.png\" alt=\"Alt Text\" style=\"width:400px;\"/>"
   ]
  },
  {
   "cell_type": "markdown",
   "id": "b0902314-9530-4179-b203-6d9df3b30838",
   "metadata": {},
   "source": [
    "# 5. Observations | Findings"
   ]
  },
  {
   "cell_type": "markdown",
   "id": "6b680b36-5a78-4b91-b03a-2b66fa37ae3d",
   "metadata": {},
   "source": [
    "* The Cash on delivery is most preferred payment method and is most prelavent in countries such as Iran, Belarus who are not following Western Culture.\n",
    "* There is a sharp decrease in exports in February and August.\n",
    "* There is balance in Imports and Exports both overall and accross all Individual Categories.\n",
    "* The preference for extended payment terms like \"Net 60\" indicates that customers may prefer to manage cash flow better, while \"Cash on Delivery\" shows a trend toward secure transactions.\n",
    "* Specific months show spikes in transaction values, possibly aligning with seasonal demand or marketing campaigns. Conversely, lower values in certain months may indicate off-peak periods."
   ]
  },
  {
   "cell_type": "markdown",
   "id": "5cf65d43-381f-4fee-b29d-0b1135bcc2ec",
   "metadata": {},
   "source": [
    "# 6. Managerial Insights | Recommendations"
   ]
  },
  {
   "cell_type": "markdown",
   "id": "6f96ba5e-c4fd-4ffa-b42e-6eccf105381b",
   "metadata": {},
   "source": [
    "Based on the analysis, the following managerial insights can be drawn:\n",
    "\n",
    "**1. Focus on High-Value Trade Partners**: Countries that consistently exhibit high trade volumes are key players in global trade. By focusing on these countries, businesses can form strategic trade agreements and partnerships to maximize revenue. Additionally, governments can consider trade policies that encourage sustained growth with these major trade partners.\n",
    "\n",
    "**2. Understanding the drivers:** Managers should maintain this balance and possibly focus on enhancing the efficiency of both imports and exports. Understanding the drivers behind these figures can help in strategizing around resource allocation, supplier relationships, and market positioning.\n",
    "\n",
    "**3. Monitor Seasonal Trends**: The data reveals fluctuations in trade volume over time, indicating that certain periods see spikes in import/export activities. By monitoring these seasonal trends, businesses can align their operations, inventory management, and logistics planning to meet demand during peak times, thereby optimizing profit margins. This also allows for better resource allocation and risk mitigation during low-activity periods.\n",
    "\n",
    "**4. Flexible payment options**: Businesses should consider offering flexible payment options that align with customer preferences to enhance customer satisfaction. This can also affect cash flow management strategies. Analyzing the reasons behind payment preferences can provide insights into customer behavior and financial strategies.\n",
    "\n",
    "**5. Risk Management:** Companies should assess their dependency on imports in specific categories and explore alternatives to ensure supply chain resilience."
   ]
  },
  {
   "cell_type": "code",
   "execution_count": 86,
   "id": "caed827b-ee4c-4bad-ad83-d927672ab7f8",
   "metadata": {},
   "outputs": [],
   "source": [
    "# Import Relevant Python Libraries.\n",
    "import pandas as pd\n",
    "import numpy as np\n",
    "import matplotlib.pyplot as plt\n",
    "import plotly.express as px"
   ]
  },
  {
   "cell_type": "code",
   "execution_count": 31,
   "id": "de6337a3-c310-410f-b985-8fe7aa00c063",
   "metadata": {},
   "outputs": [],
   "source": [
    "#Import dataset\n",
    "df = pd.read_csv(r\"D:\\FORE\\Tri 1\\DEVP\\archive\\Imports_Exports_Dataset.csv\")"
   ]
  },
  {
   "cell_type": "code",
   "execution_count": 33,
   "id": "047a09fe-e098-4080-8607-927ca22db226",
   "metadata": {},
   "outputs": [
    {
     "data": {
      "text/html": [
       "<div>\n",
       "<style scoped>\n",
       "    .dataframe tbody tr th:only-of-type {\n",
       "        vertical-align: middle;\n",
       "    }\n",
       "\n",
       "    .dataframe tbody tr th {\n",
       "        vertical-align: top;\n",
       "    }\n",
       "\n",
       "    .dataframe thead th {\n",
       "        text-align: right;\n",
       "    }\n",
       "</style>\n",
       "<table border=\"1\" class=\"dataframe\">\n",
       "  <thead>\n",
       "    <tr style=\"text-align: right;\">\n",
       "      <th></th>\n",
       "      <th>Transaction_ID</th>\n",
       "      <th>Country</th>\n",
       "      <th>Product</th>\n",
       "      <th>Import_Export</th>\n",
       "      <th>Quantity</th>\n",
       "      <th>Value</th>\n",
       "      <th>Date</th>\n",
       "      <th>Category</th>\n",
       "      <th>Port</th>\n",
       "      <th>Customs_Code</th>\n",
       "      <th>Weight</th>\n",
       "      <th>Shipping_Method</th>\n",
       "      <th>Supplier</th>\n",
       "      <th>Customer</th>\n",
       "      <th>Invoice_Number</th>\n",
       "      <th>Payment_Terms</th>\n",
       "    </tr>\n",
       "  </thead>\n",
       "  <tbody>\n",
       "    <tr>\n",
       "      <th>0</th>\n",
       "      <td>e3e70682-c209-4cac-a29f-6fbed82c07cd</td>\n",
       "      <td>Colombia</td>\n",
       "      <td>describe</td>\n",
       "      <td>Export</td>\n",
       "      <td>1979</td>\n",
       "      <td>9506.57</td>\n",
       "      <td>07-12-2023</td>\n",
       "      <td>Machinery</td>\n",
       "      <td>Robertbury</td>\n",
       "      <td>620537</td>\n",
       "      <td>4248.65</td>\n",
       "      <td>Air</td>\n",
       "      <td>Garrison, Hubbard and Hendricks</td>\n",
       "      <td>Seth Hall</td>\n",
       "      <td>21000294</td>\n",
       "      <td>Cash on Delivery</td>\n",
       "    </tr>\n",
       "    <tr>\n",
       "      <th>1</th>\n",
       "      <td>f728b4fa-4248-4e3a-8a5d-2f346baa9455</td>\n",
       "      <td>Chile</td>\n",
       "      <td>president</td>\n",
       "      <td>Export</td>\n",
       "      <td>5763</td>\n",
       "      <td>7100.91</td>\n",
       "      <td>04-04-2023</td>\n",
       "      <td>Clothing</td>\n",
       "      <td>Shahport</td>\n",
       "      <td>927600</td>\n",
       "      <td>4340.81</td>\n",
       "      <td>Air</td>\n",
       "      <td>Webb-Mack</td>\n",
       "      <td>Kimberly Ryan</td>\n",
       "      <td>88738432</td>\n",
       "      <td>Prepaid</td>\n",
       "    </tr>\n",
       "    <tr>\n",
       "      <th>2</th>\n",
       "      <td>eb1167b3-67a9-4378-bc65-c1e582e2e662</td>\n",
       "      <td>Turkey</td>\n",
       "      <td>far</td>\n",
       "      <td>Import</td>\n",
       "      <td>5740</td>\n",
       "      <td>2450.34</td>\n",
       "      <td>21-08-2024</td>\n",
       "      <td>Electronics</td>\n",
       "      <td>South Joshuatown</td>\n",
       "      <td>299258</td>\n",
       "      <td>4538.41</td>\n",
       "      <td>Air</td>\n",
       "      <td>Mendez, Jones and Johnson</td>\n",
       "      <td>Ryan Silva</td>\n",
       "      <td>89922099</td>\n",
       "      <td>Prepaid</td>\n",
       "    </tr>\n",
       "    <tr>\n",
       "      <th>3</th>\n",
       "      <td>f7c1bd87-4da5-4709-9471-3d60c8a70639</td>\n",
       "      <td>Christmas Island</td>\n",
       "      <td>agency</td>\n",
       "      <td>Export</td>\n",
       "      <td>2592</td>\n",
       "      <td>7226.42</td>\n",
       "      <td>09-05-2022</td>\n",
       "      <td>Furniture</td>\n",
       "      <td>Adamfort</td>\n",
       "      <td>996084</td>\n",
       "      <td>4886.14</td>\n",
       "      <td>Air</td>\n",
       "      <td>Schroeder-Smith</td>\n",
       "      <td>Jacob Gray</td>\n",
       "      <td>63216265</td>\n",
       "      <td>Net 60</td>\n",
       "    </tr>\n",
       "    <tr>\n",
       "      <th>4</th>\n",
       "      <td>e443df78-9558-467f-9ba9-1faf7a024204</td>\n",
       "      <td>Finland</td>\n",
       "      <td>policy</td>\n",
       "      <td>Export</td>\n",
       "      <td>2622</td>\n",
       "      <td>2817.29</td>\n",
       "      <td>03-04-2023</td>\n",
       "      <td>Electronics</td>\n",
       "      <td>Juliebury</td>\n",
       "      <td>555981</td>\n",
       "      <td>4406.74</td>\n",
       "      <td>Air</td>\n",
       "      <td>Zimmerman LLC</td>\n",
       "      <td>Amy Stephens</td>\n",
       "      <td>94600248</td>\n",
       "      <td>Cash on Delivery</td>\n",
       "    </tr>\n",
       "  </tbody>\n",
       "</table>\n",
       "</div>"
      ],
      "text/plain": [
       "                         Transaction_ID           Country    Product  \\\n",
       "0  e3e70682-c209-4cac-a29f-6fbed82c07cd          Colombia   describe   \n",
       "1  f728b4fa-4248-4e3a-8a5d-2f346baa9455             Chile  president   \n",
       "2  eb1167b3-67a9-4378-bc65-c1e582e2e662            Turkey        far   \n",
       "3  f7c1bd87-4da5-4709-9471-3d60c8a70639  Christmas Island     agency   \n",
       "4  e443df78-9558-467f-9ba9-1faf7a024204           Finland     policy   \n",
       "\n",
       "  Import_Export  Quantity    Value        Date     Category              Port  \\\n",
       "0        Export      1979  9506.57  07-12-2023    Machinery        Robertbury   \n",
       "1        Export      5763  7100.91  04-04-2023     Clothing          Shahport   \n",
       "2        Import      5740  2450.34  21-08-2024  Electronics  South Joshuatown   \n",
       "3        Export      2592  7226.42  09-05-2022    Furniture          Adamfort   \n",
       "4        Export      2622  2817.29  03-04-2023  Electronics         Juliebury   \n",
       "\n",
       "   Customs_Code   Weight Shipping_Method                         Supplier  \\\n",
       "0        620537  4248.65             Air  Garrison, Hubbard and Hendricks   \n",
       "1        927600  4340.81             Air                        Webb-Mack   \n",
       "2        299258  4538.41             Air        Mendez, Jones and Johnson   \n",
       "3        996084  4886.14             Air                  Schroeder-Smith   \n",
       "4        555981  4406.74             Air                    Zimmerman LLC   \n",
       "\n",
       "        Customer  Invoice_Number     Payment_Terms  \n",
       "0      Seth Hall        21000294  Cash on Delivery  \n",
       "1  Kimberly Ryan        88738432           Prepaid  \n",
       "2     Ryan Silva        89922099           Prepaid  \n",
       "3     Jacob Gray        63216265            Net 60  \n",
       "4   Amy Stephens        94600248  Cash on Delivery  "
      ]
     },
     "execution_count": 33,
     "metadata": {},
     "output_type": "execute_result"
    }
   ],
   "source": [
    "df.head()"
   ]
  },
  {
   "cell_type": "code",
   "execution_count": 35,
   "id": "f28d3585-5da8-4e4d-ad5a-4bb6a39ab4a2",
   "metadata": {},
   "outputs": [
    {
     "data": {
      "text/html": [
       "<div>\n",
       "<style scoped>\n",
       "    .dataframe tbody tr th:only-of-type {\n",
       "        vertical-align: middle;\n",
       "    }\n",
       "\n",
       "    .dataframe tbody tr th {\n",
       "        vertical-align: top;\n",
       "    }\n",
       "\n",
       "    .dataframe thead th {\n",
       "        text-align: right;\n",
       "    }\n",
       "</style>\n",
       "<table border=\"1\" class=\"dataframe\">\n",
       "  <thead>\n",
       "    <tr style=\"text-align: right;\">\n",
       "      <th></th>\n",
       "      <th>Transaction_ID</th>\n",
       "      <th>Country</th>\n",
       "      <th>Product</th>\n",
       "      <th>Import_Export</th>\n",
       "      <th>Quantity</th>\n",
       "      <th>Value</th>\n",
       "      <th>Date</th>\n",
       "      <th>Category</th>\n",
       "      <th>Port</th>\n",
       "      <th>Customs_Code</th>\n",
       "      <th>Weight</th>\n",
       "      <th>Shipping_Method</th>\n",
       "      <th>Supplier</th>\n",
       "      <th>Customer</th>\n",
       "      <th>Invoice_Number</th>\n",
       "      <th>Payment_Terms</th>\n",
       "    </tr>\n",
       "  </thead>\n",
       "  <tbody>\n",
       "    <tr>\n",
       "      <th>13738</th>\n",
       "      <td>6530d226-7fcc-4353-85e4-87bdc5c16154</td>\n",
       "      <td>Latvia</td>\n",
       "      <td>summer</td>\n",
       "      <td>Export</td>\n",
       "      <td>2811</td>\n",
       "      <td>3261.43</td>\n",
       "      <td>26-11-2020</td>\n",
       "      <td>Electronics</td>\n",
       "      <td>Bernardhaven</td>\n",
       "      <td>920174</td>\n",
       "      <td>1642.61</td>\n",
       "      <td>Sea</td>\n",
       "      <td>Jackson-Johnston</td>\n",
       "      <td>David Velez</td>\n",
       "      <td>80229648</td>\n",
       "      <td>Prepaid</td>\n",
       "    </tr>\n",
       "    <tr>\n",
       "      <th>6048</th>\n",
       "      <td>96a61a5d-0551-4291-b4c0-e1d83ef3d973</td>\n",
       "      <td>Zambia</td>\n",
       "      <td>popular</td>\n",
       "      <td>Export</td>\n",
       "      <td>3132</td>\n",
       "      <td>6888.71</td>\n",
       "      <td>08-09-2022</td>\n",
       "      <td>Toys</td>\n",
       "      <td>Jacobfurt</td>\n",
       "      <td>479107</td>\n",
       "      <td>4073.87</td>\n",
       "      <td>Land</td>\n",
       "      <td>Conner, Williams and Lyons</td>\n",
       "      <td>Fernando Ramsey</td>\n",
       "      <td>97002920</td>\n",
       "      <td>Net 30</td>\n",
       "    </tr>\n",
       "    <tr>\n",
       "      <th>9355</th>\n",
       "      <td>0f493112-bc03-4879-abb7-6a3232975fbc</td>\n",
       "      <td>Falkland Islands (Malvinas)</td>\n",
       "      <td>both</td>\n",
       "      <td>Import</td>\n",
       "      <td>3304</td>\n",
       "      <td>4979.81</td>\n",
       "      <td>03-08-2024</td>\n",
       "      <td>Toys</td>\n",
       "      <td>Levineton</td>\n",
       "      <td>703156</td>\n",
       "      <td>4222.26</td>\n",
       "      <td>Sea</td>\n",
       "      <td>Massey, Taylor and Hamilton</td>\n",
       "      <td>Lindsay Bell</td>\n",
       "      <td>83682789</td>\n",
       "      <td>Prepaid</td>\n",
       "    </tr>\n",
       "    <tr>\n",
       "      <th>12264</th>\n",
       "      <td>c535233e-b2d0-4fb4-bdbc-590c5a28b919</td>\n",
       "      <td>Mauritania</td>\n",
       "      <td>side</td>\n",
       "      <td>Export</td>\n",
       "      <td>772</td>\n",
       "      <td>7107.68</td>\n",
       "      <td>08-03-2024</td>\n",
       "      <td>Furniture</td>\n",
       "      <td>West Andrewbury</td>\n",
       "      <td>580597</td>\n",
       "      <td>1549.18</td>\n",
       "      <td>Air</td>\n",
       "      <td>Harrell, Taylor and Webb</td>\n",
       "      <td>Veronica Martinez</td>\n",
       "      <td>25845364</td>\n",
       "      <td>Cash on Delivery</td>\n",
       "    </tr>\n",
       "    <tr>\n",
       "      <th>7182</th>\n",
       "      <td>18fbbb2d-f335-4e6f-950f-4b93ac8822f8</td>\n",
       "      <td>Australia</td>\n",
       "      <td>pick</td>\n",
       "      <td>Import</td>\n",
       "      <td>8428</td>\n",
       "      <td>3181.04</td>\n",
       "      <td>14-07-2021</td>\n",
       "      <td>Clothing</td>\n",
       "      <td>Jensenborough</td>\n",
       "      <td>922068</td>\n",
       "      <td>2422.30</td>\n",
       "      <td>Air</td>\n",
       "      <td>Campbell-Bates</td>\n",
       "      <td>Larry Dominguez</td>\n",
       "      <td>80408840</td>\n",
       "      <td>Net 30</td>\n",
       "    </tr>\n",
       "  </tbody>\n",
       "</table>\n",
       "</div>"
      ],
      "text/plain": [
       "                             Transaction_ID                      Country  \\\n",
       "13738  6530d226-7fcc-4353-85e4-87bdc5c16154                       Latvia   \n",
       "6048   96a61a5d-0551-4291-b4c0-e1d83ef3d973                       Zambia   \n",
       "9355   0f493112-bc03-4879-abb7-6a3232975fbc  Falkland Islands (Malvinas)   \n",
       "12264  c535233e-b2d0-4fb4-bdbc-590c5a28b919                   Mauritania   \n",
       "7182   18fbbb2d-f335-4e6f-950f-4b93ac8822f8                    Australia   \n",
       "\n",
       "       Product Import_Export  Quantity    Value        Date     Category  \\\n",
       "13738   summer        Export      2811  3261.43  26-11-2020  Electronics   \n",
       "6048   popular        Export      3132  6888.71  08-09-2022         Toys   \n",
       "9355      both        Import      3304  4979.81  03-08-2024         Toys   \n",
       "12264     side        Export       772  7107.68  08-03-2024    Furniture   \n",
       "7182      pick        Import      8428  3181.04  14-07-2021     Clothing   \n",
       "\n",
       "                  Port  Customs_Code   Weight Shipping_Method  \\\n",
       "13738     Bernardhaven        920174  1642.61             Sea   \n",
       "6048         Jacobfurt        479107  4073.87            Land   \n",
       "9355         Levineton        703156  4222.26             Sea   \n",
       "12264  West Andrewbury        580597  1549.18             Air   \n",
       "7182     Jensenborough        922068  2422.30             Air   \n",
       "\n",
       "                          Supplier           Customer  Invoice_Number  \\\n",
       "13738             Jackson-Johnston        David Velez        80229648   \n",
       "6048    Conner, Williams and Lyons    Fernando Ramsey        97002920   \n",
       "9355   Massey, Taylor and Hamilton       Lindsay Bell        83682789   \n",
       "12264     Harrell, Taylor and Webb  Veronica Martinez        25845364   \n",
       "7182                Campbell-Bates    Larry Dominguez        80408840   \n",
       "\n",
       "          Payment_Terms  \n",
       "13738           Prepaid  \n",
       "6048             Net 30  \n",
       "9355            Prepaid  \n",
       "12264  Cash on Delivery  \n",
       "7182             Net 30  "
      ]
     },
     "execution_count": 35,
     "metadata": {},
     "output_type": "execute_result"
    }
   ],
   "source": [
    "#Random Sample from the dataset\n",
    "df_sample = df.sample(n=3001, random_state = 55011)\n",
    "df_sample.head()"
   ]
  },
  {
   "cell_type": "code",
   "execution_count": 37,
   "id": "dcb180d3-d6bd-4656-b7ea-fc3a5ee180df",
   "metadata": {},
   "outputs": [
    {
     "name": "stdout",
     "output_type": "stream",
     "text": [
      "No. of rows in the data are: 3001\n",
      "No. of columns in the data are: 16\n"
     ]
    }
   ],
   "source": [
    "# Dimensions of the data\n",
    "dimensions = df_sample.shape\n",
    "print('No. of rows in the data are:',dimensions[0])\n",
    "print('No. of columns in the data are:',dimensions[1])"
   ]
  },
  {
   "cell_type": "code",
   "execution_count": 53,
   "id": "446acbf0-c270-409a-beb5-18028d96156a",
   "metadata": {},
   "outputs": [
    {
     "data": {
      "image/png": "[encoded data removed]",
      "text/plain": [
       "<Figure size 800x600 with 1 Axes>"
      ]
     },
     "metadata": {},
     "output_type": "display_data"
    }
   ],
   "source": [
    "# Count the number of Import and Export transactions\n",
    "transaction_counts = df_sample['Import_Export'].value_counts()\n",
    "\n",
    "# Plot the pie chart\n",
    "plt.figure(figsize=(8, 6))\n",
    "plt.pie(transaction_counts, labels=transaction_counts.index, autopct='%1.1f%%', startangle=90, colors=['skyblue', 'lightgreen'])\n",
    "plt.title('Percentage of Import and Export Transactions')\n",
    "plt.axis('equal')  # Equal aspect ratio ensures that pie is drawn as a circle.\n",
    "plt.show()\n"
   ]
  },
  {
   "cell_type": "code",
   "execution_count": 51,
   "id": "50e199c1-5690-48b1-a475-6864734fff90",
   "metadata": {},
   "outputs": [
    {
     "data": {
      "image/png": "[encoded data removed]",
      "text/plain": [
       "<Figure size 800x600 with 1 Axes>"
      ]
     },
     "metadata": {},
     "output_type": "display_data"
    }
   ],
   "source": [
    "# Group the data by Category and Import_Export, then count the number of transactions\n",
    "category_transaction_counts = df_sample.groupby(['Category', 'Import_Export']).size().unstack()\n",
    "\n",
    "# Plot a stacked bar chart\n",
    "category_transaction_counts.plot(kind='bar', stacked=True, figsize=(8, 6), color=['skyblue', 'lightgreen'])\n",
    "\n",
    "# Add labels and title\n",
    "plt.title('Transactions by Category (Stacked by Import/Export)')\n",
    "plt.xlabel('Category')\n",
    "plt.ylabel('Number of Transactions')\n",
    "plt.legend(title='Transaction Type')\n",
    "\n",
    "# Show the plot\n",
    "plt.tight_layout()\n",
    "plt.show()\n"
   ]
  },
  {
   "cell_type": "code",
   "execution_count": 71,
   "id": "9d627566-05fe-4cc0-aee6-eed89a251abb",
   "metadata": {},
   "outputs": [
    {
     "data": {
      "image/png": "[encoded data removed]",
      "text/plain": [
       "<Figure size 800x600 with 1 Axes>"
      ]
     },
     "metadata": {},
     "output_type": "display_data"
    }
   ],
   "source": [
    "# Count the occurrences of each payment mode\n",
    "payment_mode_counts = df_sample['Payment_Terms'].value_counts()\n",
    "\n",
    "# Plot a horizontal bar chart\n",
    "plt.figure(figsize=(8, 6))\n",
    "colors = plt.cm.viridis(np.linspace(0, 1, 4))\n",
    "payment_mode_counts.plot(kind='barh', color=colors)\n",
    "\n",
    "# Add labels and title\n",
    "plt.title('Most Preferred Payment Modes')\n",
    "plt.xlabel('Number of Transactions')\n",
    "plt.ylabel('Payment Mode')\n",
    "\n",
    "# Show the plot\n",
    "plt.tight_layout()\n",
    "plt.show()"
   ]
  },
  {
   "cell_type": "code",
   "execution_count": 73,
   "id": "5a33be82-c226-40ab-afc6-5c5925665e34",
   "metadata": {},
   "outputs": [
    {
     "data": {
      "image/png": "[encoded data removed]",
      "text/plain": [
       "<Figure size 800x600 with 1 Axes>"
      ]
     },
     "metadata": {},
     "output_type": "display_data"
    }
   ],
   "source": [
    "# Convert 'Date' column to datetime format\n",
    "df_sample['Date'] = pd.to_datetime(df_sample['Date'], format='%d-%m-%Y')\n",
    "\n",
    "# Extract month from the date\n",
    "df_sample['Month'] = df_sample['Date'].dt.month\n",
    "\n",
    "# Group by month and Import_Export, then calculate the average transaction value\n",
    "monthly_avg_value = df_sample.groupby(['Month', 'Import_Export'])['Value'].mean().unstack()\n",
    "\n",
    "# Plot the line graph\n",
    "plt.figure(figsize=(8, 6))\n",
    "\n",
    "# Plot each import and export line\n",
    "for column in monthly_avg_value.columns:\n",
    "    plt.plot(monthly_avg_value.index, monthly_avg_value[column], marker='o', label=column)\n",
    "\n",
    "# Add labels and title\n",
    "plt.title('Average Value of Transactions by Month')\n",
    "plt.xlabel('Month')\n",
    "plt.ylabel('Average Transaction Value')\n",
    "plt.grid(True)\n",
    "plt.legend(title='Transaction Type')  # Add legend to distinguish between imports and exports\n",
    "\n",
    "# Show the plot\n",
    "plt.tight_layout()\n",
    "plt.show()"
   ]
  },
  {
   "cell_type": "code",
   "execution_count": 108,
   "id": "dd052e32-c657-4d8e-bf39-78d9dc41635c",
   "metadata": {},
   "outputs": [
    {
     "data": {
      "application/vnd.plotly.v1+json": {
       "config": {
        "plotlyServerURL": "https://plot.ly"
       },
       "data": [
        {
         "coloraxis": "coloraxis",
         "geo": "geo",
         "hovertemplate": "<b>%{hovertext}</b><br><br>Country=%{location}<br>Total Value (in USD)=%{z}<extra></extra>",
         "hovertext": [
          "Afghanistan",
          "Albania",
          "Algeria",
          "American Samoa",
          "Andorra",
          "Angola",
          "Anguilla",
          "Antarctica (the territory South of 60 deg S)",
          "Antigua and Barbuda",
          "Argentina",
          "Armenia",
          "Aruba",
          "Australia",
          "Austria",
          "Azerbaijan",
          "Bahamas",
          "Bahrain",
          "Bangladesh",
          "Barbados",
          "Belarus",
          "Belgium",
          "Belize",
          "Benin",
          "Bermuda",
          "Bhutan",
          "Bolivia",
          "Bosnia and Herzegovina",
          "Botswana",
          "Bouvet Island (Bouvetoya)",
          "Brazil",
          "British Indian Ocean Territory (Chagos Archipelago)",
          "British Virgin Islands",
          "Brunei Darussalam",
          "Bulgaria",
          "Burkina Faso",
          "Burundi",
          "Cambodia",
          "Cameroon",
          "Canada",
          "Cape Verde",
          "Cayman Islands",
          "Central African Republic",
          "Chad",
          "Chile",
          "China",
          "Christmas Island",
          "Cocos (Keeling) Islands",
          "Colombia",
          "Comoros",
          "Congo",
          "Cook Islands",
          "Costa Rica",
          "Cote d'Ivoire",
          "Croatia",
          "Cuba",
          "Cyprus",
          "Czech Republic",
          "Denmark",
          "Djibouti",
          "Dominica",
          "Dominican Republic",
          "Ecuador",
          "Egypt",
          "El Salvador",
          "Equatorial Guinea",
          "Eritrea",
          "Estonia",
          "Ethiopia",
          "Falkland Islands (Malvinas)",
          "Faroe Islands",
          "Fiji",
          "Finland",
          "France",
          "French Guiana",
          "French Polynesia",
          "French Southern Territories",
          "Gabon",
          "Gambia",
          "Georgia",
          "Germany",
          "Ghana",
          "Gibraltar",
          "Greece",
          "Greenland",
          "Grenada",
          "Guadeloupe",
          "Guam",
          "Guatemala",
          "Guernsey",
          "Guinea",
          "Guinea-Bissau",
          "Guyana",
          "Haiti",
          "Heard Island and McDonald Islands",
          "Holy See (Vatican City State)",
          "Honduras",
          "Hong Kong",
          "Hungary",
          "Iceland",
          "India",
          "Indonesia",
          "Iran",
          "Iraq",
          "Ireland",
          "Isle of Man",
          "Israel",
          "Italy",
          "Jamaica",
          "Japan",
          "Jersey",
          "Jordan",
          "Kazakhstan",
          "Kenya",
          "Kiribati",
          "Korea",
          "Kuwait",
          "Kyrgyz Republic",
          "Lao People's Democratic Republic",
          "Latvia",
          "Lebanon",
          "Lesotho",
          "Liberia",
          "Libyan Arab Jamahiriya",
          "Liechtenstein",
          "Lithuania",
          "Luxembourg",
          "Macao",
          "Madagascar",
          "Malawi",
          "Malaysia",
          "Maldives",
          "Mali",
          "Malta",
          "Marshall Islands",
          "Martinique",
          "Mauritania",
          "Mauritius",
          "Mayotte",
          "Mexico",
          "Micronesia",
          "Moldova",
          "Monaco",
          "Mongolia",
          "Montenegro",
          "Montserrat",
          "Morocco",
          "Mozambique",
          "Myanmar",
          "Namibia",
          "Nauru",
          "Nepal",
          "Netherlands",
          "Netherlands Antilles",
          "New Caledonia",
          "New Zealand",
          "Nicaragua",
          "Niger",
          "Nigeria",
          "Niue",
          "Norfolk Island",
          "North Macedonia",
          "Northern Mariana Islands",
          "Norway",
          "Oman",
          "Pakistan",
          "Palau",
          "Palestinian Territory",
          "Panama",
          "Papua New Guinea",
          "Paraguay",
          "Peru",
          "Philippines",
          "Pitcairn Islands",
          "Poland",
          "Portugal",
          "Puerto Rico",
          "Qatar",
          "Reunion",
          "Romania",
          "Russian Federation",
          "Rwanda",
          "Saint Barthelemy",
          "Saint Helena",
          "Saint Kitts and Nevis",
          "Saint Lucia",
          "Saint Martin",
          "Saint Pierre and Miquelon",
          "Saint Vincent and the Grenadines",
          "Samoa",
          "San Marino",
          "Sao Tome and Principe",
          "Saudi Arabia",
          "Senegal",
          "Serbia",
          "Seychelles",
          "Sierra Leone",
          "Singapore",
          "Slovakia (Slovak Republic)",
          "Slovenia",
          "Solomon Islands",
          "Somalia",
          "South Africa",
          "South Georgia and the South Sandwich Islands",
          "Spain",
          "Sri Lanka",
          "Sudan",
          "Suriname",
          "Svalbard & Jan Mayen Islands",
          "Swaziland",
          "Sweden",
          "Switzerland",
          "Syrian Arab Republic",
          "Taiwan",
          "Tajikistan",
          "Tanzania",
          "Thailand",
          "Timor-Leste",
          "Togo",
          "Tokelau",
          "Tonga",
          "Trinidad and Tobago",
          "Tunisia",
          "Turkey",
          "Turkmenistan",
          "Turks and Caicos Islands",
          "Tuvalu",
          "Uganda",
          "Ukraine",
          "United Arab Emirates",
          "United Kingdom",
          "United States Minor Outlying Islands",
          "United States Virgin Islands",
          "United States of America",
          "Uruguay",
          "Uzbekistan",
          "Vanuatu",
          "Venezuela",
          "Vietnam",
          "Wallis and Futuna",
          "Western Sahara",
          "Yemen",
          "Zambia",
          "Zimbabwe"
         ],
         "locationmode": "country names",
         "locations": [
          "Afghanistan",
          "Albania",
          "Algeria",
          "American Samoa",
          "Andorra",
          "Angola",
          "Anguilla",
          "Antarctica (the territory South of 60 deg S)",
          "Antigua and Barbuda",
          "Argentina",
          "Armenia",
          "Aruba",
          "Australia",
          "Austria",
          "Azerbaijan",
          "Bahamas",
          "Bahrain",
          "Bangladesh",
          "Barbados",
          "Belarus",
          "Belgium",
          "Belize",
          "Benin",
          "Bermuda",
          "Bhutan",
          "Bolivia",
          "Bosnia and Herzegovina",
          "Botswana",
          "Bouvet Island (Bouvetoya)",
          "Brazil",
          "British Indian Ocean Territory (Chagos Archipelago)",
          "British Virgin Islands",
          "Brunei Darussalam",
          "Bulgaria",
          "Burkina Faso",
          "Burundi",
          "Cambodia",
          "Cameroon",
          "Canada",
          "Cape Verde",
          "Cayman Islands",
          "Central African Republic",
          "Chad",
          "Chile",
          "China",
          "Christmas Island",
          "Cocos (Keeling) Islands",
          "Colombia",
          "Comoros",
          "Congo",
          "Cook Islands",
          "Costa Rica",
          "Cote d'Ivoire",
          "Croatia",
          "Cuba",
          "Cyprus",
          "Czech Republic",
          "Denmark",
          "Djibouti",
          "Dominica",
          "Dominican Republic",
          "Ecuador",
          "Egypt",
          "El Salvador",
          "Equatorial Guinea",
          "Eritrea",
          "Estonia",
          "Ethiopia",
          "Falkland Islands (Malvinas)",
          "Faroe Islands",
          "Fiji",
          "Finland",
          "France",
          "French Guiana",
          "French Polynesia",
          "French Southern Territories",
          "Gabon",
          "Gambia",
          "Georgia",
          "Germany",
          "Ghana",
          "Gibraltar",
          "Greece",
          "Greenland",
          "Grenada",
          "Guadeloupe",
          "Guam",
          "Guatemala",
          "Guernsey",
          "Guinea",
          "Guinea-Bissau",
          "Guyana",
          "Haiti",
          "Heard Island and McDonald Islands",
          "Holy See (Vatican City State)",
          "Honduras",
          "Hong Kong",
          "Hungary",
          "Iceland",
          "India",
          "Indonesia",
          "Iran",
          "Iraq",
          "Ireland",
          "Isle of Man",
          "Israel",
          "Italy",
          "Jamaica",
          "Japan",
          "Jersey",
          "Jordan",
          "Kazakhstan",
          "Kenya",
          "Kiribati",
          "Korea",
          "Kuwait",
          "Kyrgyz Republic",
          "Lao People's Democratic Republic",
          "Latvia",
          "Lebanon",
          "Lesotho",
          "Liberia",
          "Libyan Arab Jamahiriya",
          "Liechtenstein",
          "Lithuania",
          "Luxembourg",
          "Macao",
          "Madagascar",
          "Malawi",
          "Malaysia",
          "Maldives",
          "Mali",
          "Malta",
          "Marshall Islands",
          "Martinique",
          "Mauritania",
          "Mauritius",
          "Mayotte",
          "Mexico",
          "Micronesia",
          "Moldova",
          "Monaco",
          "Mongolia",
          "Montenegro",
          "Montserrat",
          "Morocco",
          "Mozambique",
          "Myanmar",
          "Namibia",
          "Nauru",
          "Nepal",
          "Netherlands",
          "Netherlands Antilles",
          "New Caledonia",
          "New Zealand",
          "Nicaragua",
          "Niger",
          "Nigeria",
          "Niue",
          "Norfolk Island",
          "North Macedonia",
          "Northern Mariana Islands",
          "Norway",
          "Oman",
          "Pakistan",
          "Palau",
          "Palestinian Territory",
          "Panama",
          "Papua New Guinea",
          "Paraguay",
          "Peru",
          "Philippines",
          "Pitcairn Islands",
          "Poland",
          "Portugal",
          "Puerto Rico",
          "Qatar",
          "Reunion",
          "Romania",
          "Russian Federation",
          "Rwanda",
          "Saint Barthelemy",
          "Saint Helena",
          "Saint Kitts and Nevis",
          "Saint Lucia",
          "Saint Martin",
          "Saint Pierre and Miquelon",
          "Saint Vincent and the Grenadines",
          "Samoa",
          "San Marino",
          "Sao Tome and Principe",
          "Saudi Arabia",
          "Senegal",
          "Serbia",
          "Seychelles",
          "Sierra Leone",
          "Singapore",
          "Slovakia (Slovak Republic)",
          "Slovenia",
          "Solomon Islands",
          "Somalia",
          "South Africa",
          "South Georgia and the South Sandwich Islands",
          "Spain",
          "Sri Lanka",
          "Sudan",
          "Suriname",
          "Svalbard & Jan Mayen Islands",
          "Swaziland",
          "Sweden",
          "Switzerland",
          "Syrian Arab Republic",
          "Taiwan",
          "Tajikistan",
          "Tanzania",
          "Thailand",
          "Timor-Leste",
          "Togo",
          "Tokelau",
          "Tonga",
          "Trinidad and Tobago",
          "Tunisia",
          "Turkey",
          "Turkmenistan",
          "Turks and Caicos Islands",
          "Tuvalu",
          "Uganda",
          "Ukraine",
          "United Arab Emirates",
          "United Kingdom",
          "United States Minor Outlying Islands",
          "United States Virgin Islands",
          "United States of America",
          "Uruguay",
          "Uzbekistan",
          "Vanuatu",
          "Venezuela",
          "Vietnam",
          "Wallis and Futuna",
          "Western Sahara",
          "Yemen",
          "Zambia",
          "Zimbabwe"
         ],
         "name": "",
         "type": "choropleth",
         "z": [
          91050.43,
          74278.61,
          101712.49,
          82214.07,
          36495.59,
          67785.27,
          62483.91,
          79153.8,
          86079.12,
          76328.5,
          114767.92,
          94241.69,
          68953.11,
          102353.81999999999,
          89628.18,
          41719.41,
          55453.490000000005,
          88000.7,
          67447.76000000001,
          82200.39,
          44797.66,
          37253.43,
          44031.509999999995,
          50458.59,
          43441.36,
          52966.01,
          50829.6,
          53227.270000000004,
          87805.26,
          50061.1,
          64252.009999999995,
          69650.13,
          91779.04000000001,
          67945.83,
          68141.22,
          58499.51,
          49091.09,
          38088.54,
          72043.5,
          50245.03,
          63371.64,
          58649.9,
          56360.29,
          60767.420000000006,
          47305.09,
          20646.67,
          57795.33,
          60885.39,
          16855.730000000003,
          122899.54,
          53094.28,
          43698.509999999995,
          82598.07,
          87923.91,
          64606.34,
          38443.86,
          72952.15,
          57655.83,
          65188.56999999999,
          92488.94,
          75109.43,
          67434.42,
          48745.9,
          84916.1,
          61212,
          55869.51,
          54131.13,
          29984.82,
          87145.88,
          39563.17,
          45746.05,
          80437.76,
          31120.61,
          63288.42,
          47933.39,
          64361.8,
          70475.83,
          75268.4,
          69846.64,
          73943.29,
          56068.219999999994,
          70037.37,
          56847.85,
          73812.97,
          92837.21,
          42114.46,
          59096.21,
          55967.310000000005,
          51744.8,
          70940.62,
          67857.28,
          47838.26,
          42073.05,
          89862.88,
          3036.8100000000004,
          46116.3,
          35414.3,
          84658.56,
          49752.200000000004,
          54759.020000000004,
          81998.97,
          81803.59,
          60510.78,
          19487.57,
          58473.41,
          95565.56,
          85062.46,
          82007.94,
          41881.869999999995,
          33551.009999999995,
          57762.83,
          84978.48,
          54204.22,
          66238.66,
          75253.95999999999,
          57353.14,
          41377.91,
          66155.14,
          57864.89,
          78224.01,
          69590.18,
          59235.69,
          70601.18,
          41309.03,
          41130.14,
          47898.41,
          39083.99,
          106271.12,
          62643.979999999996,
          103340.38,
          74621.41,
          58965.130000000005,
          59975.91,
          95394.56,
          73599.14,
          48784.95,
          61641.299999999996,
          83611.55,
          56557.75,
          47162.28,
          94588.41,
          55898.05,
          62843.34,
          78264.3,
          89167.69,
          59665.3,
          65564.64,
          41405.76,
          61701.93,
          65532.57000000001,
          41963.32,
          75219.28,
          59537.11,
          31830.38,
          94713.61,
          35880.369999999995,
          52775.93,
          45921.350000000006,
          60723.53,
          51504.95,
          55615.8,
          37409.06,
          110348.63,
          70953.41,
          61934.91,
          36960.63,
          24705.88,
          66488.61,
          109600.48000000001,
          49554.57,
          54678.02,
          39358.93,
          85105.51000000001,
          96158.81999999999,
          71152.68,
          73465.43,
          53086.740000000005,
          64879.72,
          81118.09000000001,
          78690.17,
          75970.26,
          37878.11000000001,
          65737.1,
          49655.16,
          35919.770000000004,
          44053.71000000001,
          43602.85,
          48418.8,
          48925.030000000006,
          52141.369999999995,
          52124.34,
          40974.95,
          42060.25,
          86239.45,
          27820.5,
          60266.53,
          61478.42,
          52836.170000000006,
          69570.03,
          56597.16,
          65798.79999999999,
          66850.67,
          49034.55,
          93979.22,
          62110.490000000005,
          55108.04,
          90945.15,
          84170.37,
          42647.11,
          49120.86,
          130069.45000000001,
          99025.76000000001,
          53150.46,
          74773.04,
          89159.91,
          49749.89,
          89365.57,
          73868.32999999999,
          32051.840000000004,
          83010.62,
          26557.38,
          82571.6,
          38658.02,
          36151.09,
          60448.83,
          62329.16,
          90364.41,
          15528.689999999999,
          77725.79000000001,
          49150.73,
          48153.56999999999,
          82611.06,
          21366.620000000003,
          39244.99,
          56477.119999999995,
          63231.09999999999,
          76561.17,
          73434.58,
          61259.18,
          94955.87,
          50548.350000000006,
          55793.630000000005,
          27971.170000000002
         ]
        }
       ],
       "layout": {
        "coloraxis": {
         "colorbar": {
          "title": {
           "text": "Total Value (in USD)"
          }
         },
         "colorscale": [
          [
           0,
           "#0d0887"
          ],
          [
           0.1111111111111111,
           "#46039f"
          ],
          [
           0.2222222222222222,
           "#7201a8"
          ],
          [
           0.3333333333333333,
           "#9c179e"
          ],
          [
           0.4444444444444444,
           "#bd3786"
          ],
          [
           0.5555555555555556,
           "#d8576b"
          ],
          [
           0.6666666666666666,
           "#ed7953"
          ],
          [
           0.7777777777777778,
           "#fb9f3a"
          ],
          [
           0.8888888888888888,
           "#fdca26"
          ],
          [
           1,
           "#f0f921"
          ]
         ]
        },
        "geo": {
         "center": {
          "lat": 0,
          "lon": 0
         },
         "domain": {
          "x": [
           0,
           1
          ],
          "y": [
           0,
           1
          ]
         },
         "fitbounds": false,
         "projection": {
          "rotation": {
           "lon": 0
          },
          "scale": 1
         }
        },
        "height": 600,
        "legend": {
         "tracegroupgap": 0
        },
        "template": {
         "data": {
          "bar": [
           {
            "error_x": {
             "color": "#2a3f5f"
            },
            "error_y": {
             "color": "#2a3f5f"
            },
            "marker": {
             "line": {
              "color": "#E5ECF6",
              "width": 0.5
             },
             "pattern": {
              "fillmode": "overlay",
              "size": 10,
              "solidity": 0.2
             }
            },
            "type": "bar"
           }
          ],
          "barpolar": [
           {
            "marker": {
             "line": {
              "color": "#E5ECF6",
              "width": 0.5
             },
             "pattern": {
              "fillmode": "overlay",
              "size": 10,
              "solidity": 0.2
             }
            },
            "type": "barpolar"
           }
          ],
          "carpet": [
           {
            "aaxis": {
             "endlinecolor": "#2a3f5f",
             "gridcolor": "white",
             "linecolor": "white",
             "minorgridcolor": "white",
             "startlinecolor": "#2a3f5f"
            },
            "baxis": {
             "endlinecolor": "#2a3f5f",
             "gridcolor": "white",
             "linecolor": "white",
             "minorgridcolor": "white",
             "startlinecolor": "#2a3f5f"
            },
            "type": "carpet"
           }
          ],
          "choropleth": [
           {
            "colorbar": {
             "outlinewidth": 0,
             "ticks": ""
            },
            "type": "choropleth"
           }
          ],
          "contour": [
           {
            "colorbar": {
             "outlinewidth": 0,
             "ticks": ""
            },
            "colorscale": [
             [
              0,
              "#0d0887"
             ],
             [
              0.1111111111111111,
              "#46039f"
             ],
             [
              0.2222222222222222,
              "#7201a8"
             ],
             [
              0.3333333333333333,
              "#9c179e"
             ],
             [
              0.4444444444444444,
              "#bd3786"
             ],
             [
              0.5555555555555556,
              "#d8576b"
             ],
             [
              0.6666666666666666,
              "#ed7953"
             ],
             [
              0.7777777777777778,
              "#fb9f3a"
             ],
             [
              0.8888888888888888,
              "#fdca26"
             ],
             [
              1,
              "#f0f921"
             ]
            ],
            "type": "contour"
           }
          ],
          "contourcarpet": [
           {
            "colorbar": {
             "outlinewidth": 0,
             "ticks": ""
            },
            "type": "contourcarpet"
           }
          ],
          "heatmap": [
           {
            "colorbar": {
             "outlinewidth": 0,
             "ticks": ""
            },
            "colorscale": [
             [
              0,
              "#0d0887"
             ],
             [
              0.1111111111111111,
              "#46039f"
             ],
             [
              0.2222222222222222,
              "#7201a8"
             ],
             [
              0.3333333333333333,
              "#9c179e"
             ],
             [
              0.4444444444444444,
              "#bd3786"
             ],
             [
              0.5555555555555556,
              "#d8576b"
             ],
             [
              0.6666666666666666,
              "#ed7953"
             ],
             [
              0.7777777777777778,
              "#fb9f3a"
             ],
             [
              0.8888888888888888,
              "#fdca26"
             ],
             [
              1,
              "#f0f921"
             ]
            ],
            "type": "heatmap"
           }
          ],
          "heatmapgl": [
           {
            "colorbar": {
             "outlinewidth": 0,
             "ticks": ""
            },
            "colorscale": [
             [
              0,
              "#0d0887"
             ],
             [
              0.1111111111111111,
              "#46039f"
             ],
             [
              0.2222222222222222,
              "#7201a8"
             ],
             [
              0.3333333333333333,
              "#9c179e"
             ],
             [
              0.4444444444444444,
              "#bd3786"
             ],
             [
              0.5555555555555556,
              "#d8576b"
             ],
             [
              0.6666666666666666,
              "#ed7953"
             ],
             [
              0.7777777777777778,
              "#fb9f3a"
             ],
             [
              0.8888888888888888,
              "#fdca26"
             ],
             [
              1,
              "#f0f921"
             ]
            ],
            "type": "heatmapgl"
           }
          ],
          "histogram": [
           {
            "marker": {
             "pattern": {
              "fillmode": "overlay",
              "size": 10,
              "solidity": 0.2
             }
            },
            "type": "histogram"
           }
          ],
          "histogram2d": [
           {
            "colorbar": {
             "outlinewidth": 0,
             "ticks": ""
            },
            "colorscale": [
             [
              0,
              "#0d0887"
             ],
             [
              0.1111111111111111,
              "#46039f"
             ],
             [
              0.2222222222222222,
              "#7201a8"
             ],
             [
              0.3333333333333333,
              "#9c179e"
             ],
             [
              0.4444444444444444,
              "#bd3786"
             ],
             [
              0.5555555555555556,
              "#d8576b"
             ],
             [
              0.6666666666666666,
              "#ed7953"
             ],
             [
              0.7777777777777778,
              "#fb9f3a"
             ],
             [
              0.8888888888888888,
              "#fdca26"
             ],
             [
              1,
              "#f0f921"
             ]
            ],
            "type": "histogram2d"
           }
          ],
          "histogram2dcontour": [
           {
            "colorbar": {
             "outlinewidth": 0,
             "ticks": ""
            },
            "colorscale": [
             [
              0,
              "#0d0887"
             ],
             [
              0.1111111111111111,
              "#46039f"
             ],
             [
              0.2222222222222222,
              "#7201a8"
             ],
             [
              0.3333333333333333,
              "#9c179e"
             ],
             [
              0.4444444444444444,
              "#bd3786"
             ],
             [
              0.5555555555555556,
              "#d8576b"
             ],
             [
              0.6666666666666666,
              "#ed7953"
             ],
             [
              0.7777777777777778,
              "#fb9f3a"
             ],
             [
              0.8888888888888888,
              "#fdca26"
             ],
             [
              1,
              "#f0f921"
             ]
            ],
            "type": "histogram2dcontour"
           }
          ],
          "mesh3d": [
           {
            "colorbar": {
             "outlinewidth": 0,
             "ticks": ""
            },
            "type": "mesh3d"
           }
          ],
          "parcoords": [
           {
            "line": {
             "colorbar": {
              "outlinewidth": 0,
              "ticks": ""
             }
            },
            "type": "parcoords"
           }
          ],
          "pie": [
           {
            "automargin": true,
            "type": "pie"
           }
          ],
          "scatter": [
           {
            "fillpattern": {
             "fillmode": "overlay",
             "size": 10,
             "solidity": 0.2
            },
            "type": "scatter"
           }
          ],
          "scatter3d": [
           {
            "line": {
             "colorbar": {
              "outlinewidth": 0,
              "ticks": ""
             }
            },
            "marker": {
             "colorbar": {
              "outlinewidth": 0,
              "ticks": ""
             }
            },
            "type": "scatter3d"
           }
          ],
          "scattercarpet": [
           {
            "marker": {
             "colorbar": {
              "outlinewidth": 0,
              "ticks": ""
             }
            },
            "type": "scattercarpet"
           }
          ],
          "scattergeo": [
           {
            "marker": {
             "colorbar": {
              "outlinewidth": 0,
              "ticks": ""
             }
            },
            "type": "scattergeo"
           }
          ],
          "scattergl": [
           {
            "marker": {
             "colorbar": {
              "outlinewidth": 0,
              "ticks": ""
             }
            },
            "type": "scattergl"
           }
          ],
          "scattermapbox": [
           {
            "marker": {
             "colorbar": {
              "outlinewidth": 0,
              "ticks": ""
             }
            },
            "type": "scattermapbox"
           }
          ],
          "scatterpolar": [
           {
            "marker": {
             "colorbar": {
              "outlinewidth": 0,
              "ticks": ""
             }
            },
            "type": "scatterpolar"
           }
          ],
          "scatterpolargl": [
           {
            "marker": {
             "colorbar": {
              "outlinewidth": 0,
              "ticks": ""
             }
            },
            "type": "scatterpolargl"
           }
          ],
          "scatterternary": [
           {
            "marker": {
             "colorbar": {
              "outlinewidth": 0,
              "ticks": ""
             }
            },
            "type": "scatterternary"
           }
          ],
          "surface": [
           {
            "colorbar": {
             "outlinewidth": 0,
             "ticks": ""
            },
            "colorscale": [
             [
              0,
              "#0d0887"
             ],
             [
              0.1111111111111111,
              "#46039f"
             ],
             [
              0.2222222222222222,
              "#7201a8"
             ],
             [
              0.3333333333333333,
              "#9c179e"
             ],
             [
              0.4444444444444444,
              "#bd3786"
             ],
             [
              0.5555555555555556,
              "#d8576b"
             ],
             [
              0.6666666666666666,
              "#ed7953"
             ],
             [
              0.7777777777777778,
              "#fb9f3a"
             ],
             [
              0.8888888888888888,
              "#fdca26"
             ],
             [
              1,
              "#f0f921"
             ]
            ],
            "type": "surface"
           }
          ],
          "table": [
           {
            "cells": {
             "fill": {
              "color": "#EBF0F8"
             },
             "line": {
              "color": "white"
             }
            },
            "header": {
             "fill": {
              "color": "#C8D4E3"
             },
             "line": {
              "color": "white"
             }
            },
            "type": "table"
           }
          ]
         },
         "layout": {
          "annotationdefaults": {
           "arrowcolor": "#2a3f5f",
           "arrowhead": 0,
           "arrowwidth": 1
          },
          "autotypenumbers": "strict",
          "coloraxis": {
           "colorbar": {
            "outlinewidth": 0,
            "ticks": ""
           }
          },
          "colorscale": {
           "diverging": [
            [
             0,
             "#8e0152"
            ],
            [
             0.1,
             "#c51b7d"
            ],
            [
             0.2,
             "#de77ae"
            ],
            [
             0.3,
             "#f1b6da"
            ],
            [
             0.4,
             "#fde0ef"
            ],
            [
             0.5,
             "#f7f7f7"
            ],
            [
             0.6,
             "#e6f5d0"
            ],
            [
             0.7,
             "#b8e186"
            ],
            [
             0.8,
             "#7fbc41"
            ],
            [
             0.9,
             "#4d9221"
            ],
            [
             1,
             "#276419"
            ]
           ],
           "sequential": [
            [
             0,
             "#0d0887"
            ],
            [
             0.1111111111111111,
             "#46039f"
            ],
            [
             0.2222222222222222,
             "#7201a8"
            ],
            [
             0.3333333333333333,
             "#9c179e"
            ],
            [
             0.4444444444444444,
             "#bd3786"
            ],
            [
             0.5555555555555556,
             "#d8576b"
            ],
            [
             0.6666666666666666,
             "#ed7953"
            ],
            [
             0.7777777777777778,
             "#fb9f3a"
            ],
            [
             0.8888888888888888,
             "#fdca26"
            ],
            [
             1,
             "#f0f921"
            ]
           ],
           "sequentialminus": [
            [
             0,
             "#0d0887"
            ],
            [
             0.1111111111111111,
             "#46039f"
            ],
            [
             0.2222222222222222,
             "#7201a8"
            ],
            [
             0.3333333333333333,
             "#9c179e"
            ],
            [
             0.4444444444444444,
             "#bd3786"
            ],
            [
             0.5555555555555556,
             "#d8576b"
            ],
            [
             0.6666666666666666,
             "#ed7953"
            ],
            [
             0.7777777777777778,
             "#fb9f3a"
            ],
            [
             0.8888888888888888,
             "#fdca26"
            ],
            [
             1,
             "#f0f921"
            ]
           ]
          },
          "colorway": [
           "#636efa",
           "#EF553B",
           "#00cc96",
           "#ab63fa",
           "#FFA15A",
           "#19d3f3",
           "#FF6692",
           "#B6E880",
           "#FF97FF",
           "#FECB52"
          ],
          "font": {
           "color": "#2a3f5f"
          },
          "geo": {
           "bgcolor": "white",
           "lakecolor": "white",
           "landcolor": "#E5ECF6",
           "showlakes": true,
           "showland": true,
           "subunitcolor": "white"
          },
          "hoverlabel": {
           "align": "left"
          },
          "hovermode": "closest",
          "mapbox": {
           "style": "light"
          },
          "paper_bgcolor": "white",
          "plot_bgcolor": "#E5ECF6",
          "polar": {
           "angularaxis": {
            "gridcolor": "white",
            "linecolor": "white",
            "ticks": ""
           },
           "bgcolor": "#E5ECF6",
           "radialaxis": {
            "gridcolor": "white",
            "linecolor": "white",
            "ticks": ""
           }
          },
          "scene": {
           "xaxis": {
            "backgroundcolor": "#E5ECF6",
            "gridcolor": "white",
            "gridwidth": 2,
            "linecolor": "white",
            "showbackground": true,
            "ticks": "",
            "zerolinecolor": "white"
           },
           "yaxis": {
            "backgroundcolor": "#E5ECF6",
            "gridcolor": "white",
            "gridwidth": 2,
            "linecolor": "white",
            "showbackground": true,
            "ticks": "",
            "zerolinecolor": "white"
           },
           "zaxis": {
            "backgroundcolor": "#E5ECF6",
            "gridcolor": "white",
            "gridwidth": 2,
            "linecolor": "white",
            "showbackground": true,
            "ticks": "",
            "zerolinecolor": "white"
           }
          },
          "shapedefaults": {
           "line": {
            "color": "#2a3f5f"
           }
          },
          "ternary": {
           "aaxis": {
            "gridcolor": "white",
            "linecolor": "white",
            "ticks": ""
           },
           "baxis": {
            "gridcolor": "white",
            "linecolor": "white",
            "ticks": ""
           },
           "bgcolor": "#E5ECF6",
           "caxis": {
            "gridcolor": "white",
            "linecolor": "white",
            "ticks": ""
           }
          },
          "title": {
           "x": 0.05
          },
          "xaxis": {
           "automargin": true,
           "gridcolor": "white",
           "linecolor": "white",
           "ticks": "",
           "title": {
            "standoff": 15
           },
           "zerolinecolor": "white",
           "zerolinewidth": 2
          },
          "yaxis": {
           "automargin": true,
           "gridcolor": "white",
           "linecolor": "white",
           "ticks": "",
           "title": {
            "standoff": 15
           },
           "zerolinecolor": "white",
           "zerolinewidth": 2
          }
         }
        },
        "title": {
         "text": "Total Import and Export Values by Country"
        },
        "width": 1000
       }
      },
      "image/png": "[encoded data removed]",
      "text/html": [
       "<div>                            <div id=\"68c2ac53-963a-4786-89d5-9724326caa60\" class=\"plotly-graph-div\" style=\"height:600px; width:1000px;\"></div>            <script type=\"text/javascript\">                require([\"plotly\"], function(Plotly) {                    window.PLOTLYENV=window.PLOTLYENV || {};                                    if (document.getElementById(\"68c2ac53-963a-4786-89d5-9724326caa60\")) {                    Plotly.newPlot(                        \"68c2ac53-963a-4786-89d5-9724326caa60\",                        [{\"coloraxis\":\"coloraxis\",\"geo\":\"geo\",\"hovertemplate\":\"\\u003cb\\u003e%{hovertext}\\u003c\\u002fb\\u003e\\u003cbr\\u003e\\u003cbr\\u003eCountry=%{location}\\u003cbr\\u003eTotal Value (in USD)=%{z}\\u003cextra\\u003e\\u003c\\u002fextra\\u003e\",\"hovertext\":[\"Afghanistan\",\"Albania\",\"Algeria\",\"American Samoa\",\"Andorra\",\"Angola\",\"Anguilla\",\"Antarctica (the territory South of 60 deg S)\",\"Antigua and Barbuda\",\"Argentina\",\"Armenia\",\"Aruba\",\"Australia\",\"Austria\",\"Azerbaijan\",\"Bahamas\",\"Bahrain\",\"Bangladesh\",\"Barbados\",\"Belarus\",\"Belgium\",\"Belize\",\"Benin\",\"Bermuda\",\"Bhutan\",\"Bolivia\",\"Bosnia and Herzegovina\",\"Botswana\",\"Bouvet Island (Bouvetoya)\",\"Brazil\",\"British Indian Ocean Territory (Chagos Archipelago)\",\"British Virgin Islands\",\"Brunei Darussalam\",\"Bulgaria\",\"Burkina Faso\",\"Burundi\",\"Cambodia\",\"Cameroon\",\"Canada\",\"Cape Verde\",\"Cayman Islands\",\"Central African Republic\",\"Chad\",\"Chile\",\"China\",\"Christmas Island\",\"Cocos (Keeling) Islands\",\"Colombia\",\"Comoros\",\"Congo\",\"Cook Islands\",\"Costa Rica\",\"Cote d'Ivoire\",\"Croatia\",\"Cuba\",\"Cyprus\",\"Czech Republic\",\"Denmark\",\"Djibouti\",\"Dominica\",\"Dominican Republic\",\"Ecuador\",\"Egypt\",\"El Salvador\",\"Equatorial Guinea\",\"Eritrea\",\"Estonia\",\"Ethiopia\",\"Falkland Islands (Malvinas)\",\"Faroe Islands\",\"Fiji\",\"Finland\",\"France\",\"French Guiana\",\"French Polynesia\",\"French Southern Territories\",\"Gabon\",\"Gambia\",\"Georgia\",\"Germany\",\"Ghana\",\"Gibraltar\",\"Greece\",\"Greenland\",\"Grenada\",\"Guadeloupe\",\"Guam\",\"Guatemala\",\"Guernsey\",\"Guinea\",\"Guinea-Bissau\",\"Guyana\",\"Haiti\",\"Heard Island and McDonald Islands\",\"Holy See (Vatican City State)\",\"Honduras\",\"Hong Kong\",\"Hungary\",\"Iceland\",\"India\",\"Indonesia\",\"Iran\",\"Iraq\",\"Ireland\",\"Isle of Man\",\"Israel\",\"Italy\",\"Jamaica\",\"Japan\",\"Jersey\",\"Jordan\",\"Kazakhstan\",\"Kenya\",\"Kiribati\",\"Korea\",\"Kuwait\",\"Kyrgyz Republic\",\"Lao People's Democratic Republic\",\"Latvia\",\"Lebanon\",\"Lesotho\",\"Liberia\",\"Libyan Arab Jamahiriya\",\"Liechtenstein\",\"Lithuania\",\"Luxembourg\",\"Macao\",\"Madagascar\",\"Malawi\",\"Malaysia\",\"Maldives\",\"Mali\",\"Malta\",\"Marshall Islands\",\"Martinique\",\"Mauritania\",\"Mauritius\",\"Mayotte\",\"Mexico\",\"Micronesia\",\"Moldova\",\"Monaco\",\"Mongolia\",\"Montenegro\",\"Montserrat\",\"Morocco\",\"Mozambique\",\"Myanmar\",\"Namibia\",\"Nauru\",\"Nepal\",\"Netherlands\",\"Netherlands Antilles\",\"New Caledonia\",\"New Zealand\",\"Nicaragua\",\"Niger\",\"Nigeria\",\"Niue\",\"Norfolk Island\",\"North Macedonia\",\"Northern Mariana Islands\",\"Norway\",\"Oman\",\"Pakistan\",\"Palau\",\"Palestinian Territory\",\"Panama\",\"Papua New Guinea\",\"Paraguay\",\"Peru\",\"Philippines\",\"Pitcairn Islands\",\"Poland\",\"Portugal\",\"Puerto Rico\",\"Qatar\",\"Reunion\",\"Romania\",\"Russian Federation\",\"Rwanda\",\"Saint Barthelemy\",\"Saint Helena\",\"Saint Kitts and Nevis\",\"Saint Lucia\",\"Saint Martin\",\"Saint Pierre and Miquelon\",\"Saint Vincent and the Grenadines\",\"Samoa\",\"San Marino\",\"Sao Tome and Principe\",\"Saudi Arabia\",\"Senegal\",\"Serbia\",\"Seychelles\",\"Sierra Leone\",\"Singapore\",\"Slovakia (Slovak Republic)\",\"Slovenia\",\"Solomon Islands\",\"Somalia\",\"South Africa\",\"South Georgia and the South Sandwich Islands\",\"Spain\",\"Sri Lanka\",\"Sudan\",\"Suriname\",\"Svalbard & Jan Mayen Islands\",\"Swaziland\",\"Sweden\",\"Switzerland\",\"Syrian Arab Republic\",\"Taiwan\",\"Tajikistan\",\"Tanzania\",\"Thailand\",\"Timor-Leste\",\"Togo\",\"Tokelau\",\"Tonga\",\"Trinidad and Tobago\",\"Tunisia\",\"Turkey\",\"Turkmenistan\",\"Turks and Caicos Islands\",\"Tuvalu\",\"Uganda\",\"Ukraine\",\"United Arab Emirates\",\"United Kingdom\",\"United States Minor Outlying Islands\",\"United States Virgin Islands\",\"United States of America\",\"Uruguay\",\"Uzbekistan\",\"Vanuatu\",\"Venezuela\",\"Vietnam\",\"Wallis and Futuna\",\"Western Sahara\",\"Yemen\",\"Zambia\",\"Zimbabwe\"],\"locationmode\":\"country names\",\"locations\":[\"Afghanistan\",\"Albania\",\"Algeria\",\"American Samoa\",\"Andorra\",\"Angola\",\"Anguilla\",\"Antarctica (the territory South of 60 deg S)\",\"Antigua and Barbuda\",\"Argentina\",\"Armenia\",\"Aruba\",\"Australia\",\"Austria\",\"Azerbaijan\",\"Bahamas\",\"Bahrain\",\"Bangladesh\",\"Barbados\",\"Belarus\",\"Belgium\",\"Belize\",\"Benin\",\"Bermuda\",\"Bhutan\",\"Bolivia\",\"Bosnia and Herzegovina\",\"Botswana\",\"Bouvet Island (Bouvetoya)\",\"Brazil\",\"British Indian Ocean Territory (Chagos Archipelago)\",\"British Virgin Islands\",\"Brunei Darussalam\",\"Bulgaria\",\"Burkina Faso\",\"Burundi\",\"Cambodia\",\"Cameroon\",\"Canada\",\"Cape Verde\",\"Cayman Islands\",\"Central African Republic\",\"Chad\",\"Chile\",\"China\",\"Christmas Island\",\"Cocos (Keeling) Islands\",\"Colombia\",\"Comoros\",\"Congo\",\"Cook Islands\",\"Costa Rica\",\"Cote d'Ivoire\",\"Croatia\",\"Cuba\",\"Cyprus\",\"Czech Republic\",\"Denmark\",\"Djibouti\",\"Dominica\",\"Dominican Republic\",\"Ecuador\",\"Egypt\",\"El Salvador\",\"Equatorial Guinea\",\"Eritrea\",\"Estonia\",\"Ethiopia\",\"Falkland Islands (Malvinas)\",\"Faroe Islands\",\"Fiji\",\"Finland\",\"France\",\"French Guiana\",\"French Polynesia\",\"French Southern Territories\",\"Gabon\",\"Gambia\",\"Georgia\",\"Germany\",\"Ghana\",\"Gibraltar\",\"Greece\",\"Greenland\",\"Grenada\",\"Guadeloupe\",\"Guam\",\"Guatemala\",\"Guernsey\",\"Guinea\",\"Guinea-Bissau\",\"Guyana\",\"Haiti\",\"Heard Island and McDonald Islands\",\"Holy See (Vatican City State)\",\"Honduras\",\"Hong Kong\",\"Hungary\",\"Iceland\",\"India\",\"Indonesia\",\"Iran\",\"Iraq\",\"Ireland\",\"Isle of Man\",\"Israel\",\"Italy\",\"Jamaica\",\"Japan\",\"Jersey\",\"Jordan\",\"Kazakhstan\",\"Kenya\",\"Kiribati\",\"Korea\",\"Kuwait\",\"Kyrgyz Republic\",\"Lao People's Democratic Republic\",\"Latvia\",\"Lebanon\",\"Lesotho\",\"Liberia\",\"Libyan Arab Jamahiriya\",\"Liechtenstein\",\"Lithuania\",\"Luxembourg\",\"Macao\",\"Madagascar\",\"Malawi\",\"Malaysia\",\"Maldives\",\"Mali\",\"Malta\",\"Marshall Islands\",\"Martinique\",\"Mauritania\",\"Mauritius\",\"Mayotte\",\"Mexico\",\"Micronesia\",\"Moldova\",\"Monaco\",\"Mongolia\",\"Montenegro\",\"Montserrat\",\"Morocco\",\"Mozambique\",\"Myanmar\",\"Namibia\",\"Nauru\",\"Nepal\",\"Netherlands\",\"Netherlands Antilles\",\"New Caledonia\",\"New Zealand\",\"Nicaragua\",\"Niger\",\"Nigeria\",\"Niue\",\"Norfolk Island\",\"North Macedonia\",\"Northern Mariana Islands\",\"Norway\",\"Oman\",\"Pakistan\",\"Palau\",\"Palestinian Territory\",\"Panama\",\"Papua New Guinea\",\"Paraguay\",\"Peru\",\"Philippines\",\"Pitcairn Islands\",\"Poland\",\"Portugal\",\"Puerto Rico\",\"Qatar\",\"Reunion\",\"Romania\",\"Russian Federation\",\"Rwanda\",\"Saint Barthelemy\",\"Saint Helena\",\"Saint Kitts and Nevis\",\"Saint Lucia\",\"Saint Martin\",\"Saint Pierre and Miquelon\",\"Saint Vincent and the Grenadines\",\"Samoa\",\"San Marino\",\"Sao Tome and Principe\",\"Saudi Arabia\",\"Senegal\",\"Serbia\",\"Seychelles\",\"Sierra Leone\",\"Singapore\",\"Slovakia (Slovak Republic)\",\"Slovenia\",\"Solomon Islands\",\"Somalia\",\"South Africa\",\"South Georgia and the South Sandwich Islands\",\"Spain\",\"Sri Lanka\",\"Sudan\",\"Suriname\",\"Svalbard & Jan Mayen Islands\",\"Swaziland\",\"Sweden\",\"Switzerland\",\"Syrian Arab Republic\",\"Taiwan\",\"Tajikistan\",\"Tanzania\",\"Thailand\",\"Timor-Leste\",\"Togo\",\"Tokelau\",\"Tonga\",\"Trinidad and Tobago\",\"Tunisia\",\"Turkey\",\"Turkmenistan\",\"Turks and Caicos Islands\",\"Tuvalu\",\"Uganda\",\"Ukraine\",\"United Arab Emirates\",\"United Kingdom\",\"United States Minor Outlying Islands\",\"United States Virgin Islands\",\"United States of America\",\"Uruguay\",\"Uzbekistan\",\"Vanuatu\",\"Venezuela\",\"Vietnam\",\"Wallis and Futuna\",\"Western Sahara\",\"Yemen\",\"Zambia\",\"Zimbabwe\"],\"name\":\"\",\"z\":[91050.43,74278.61,101712.49,82214.07,36495.59,67785.27,62483.91,79153.8,86079.12,76328.5,114767.92,94241.69,68953.11,102353.81999999999,89628.18,41719.41,55453.490000000005,88000.7,67447.76000000001,82200.39,44797.66,37253.43,44031.509999999995,50458.59,43441.36,52966.01,50829.6,53227.270000000004,87805.26,50061.1,64252.009999999995,69650.13,91779.04000000001,67945.83,68141.22,58499.51,49091.09,38088.54,72043.5,50245.03,63371.64,58649.9,56360.29,60767.420000000006,47305.09,20646.67,57795.33,60885.39,16855.730000000003,122899.54,53094.28,43698.509999999995,82598.07,87923.91,64606.34,38443.86,72952.15,57655.83,65188.56999999999,92488.94,75109.43,67434.42,48745.9,84916.1,61212.0,55869.51,54131.13,29984.82,87145.88,39563.17,45746.05,80437.76,31120.61,63288.42,47933.39,64361.8,70475.83,75268.4,69846.64,73943.29,56068.219999999994,70037.37,56847.85,73812.97,92837.21,42114.46,59096.21,55967.310000000005,51744.8,70940.62,67857.28,47838.26,42073.05,89862.88,3036.8100000000004,46116.3,35414.3,84658.56,49752.200000000004,54759.020000000004,81998.97,81803.59,60510.78,19487.57,58473.41,95565.56,85062.46,82007.94,41881.869999999995,33551.009999999995,57762.83,84978.48,54204.22,66238.66,75253.95999999999,57353.14,41377.91,66155.14,57864.89,78224.01,69590.18,59235.69,70601.18,41309.03,41130.14,47898.41,39083.99,106271.12,62643.979999999996,103340.38,74621.41,58965.130000000005,59975.91,95394.56,73599.14,48784.95,61641.299999999996,83611.55,56557.75,47162.28,94588.41,55898.05,62843.34,78264.3,89167.69,59665.3,65564.64,41405.76,61701.93,65532.57000000001,41963.32,75219.28,59537.11,31830.38,94713.61,35880.369999999995,52775.93,45921.350000000006,60723.53,51504.95,55615.8,37409.06,110348.63,70953.41,61934.91,36960.63,24705.88,66488.61,109600.48000000001,49554.57,54678.02,39358.93,85105.51000000001,96158.81999999999,71152.68,73465.43,53086.740000000005,64879.72,81118.09000000001,78690.17,75970.26,37878.11000000001,65737.1,49655.16,35919.770000000004,44053.71000000001,43602.85,48418.8,48925.030000000006,52141.369999999995,52124.34,40974.95,42060.25,86239.45,27820.5,60266.53,61478.42,52836.170000000006,69570.03,56597.16,65798.79999999999,66850.67,49034.55,93979.22,62110.490000000005,55108.04,90945.15,84170.37,42647.11,49120.86,130069.45000000001,99025.76000000001,53150.46,74773.04,89159.91,49749.89,89365.57,73868.32999999999,32051.840000000004,83010.62,26557.38,82571.6,38658.02,36151.09,60448.83,62329.16,90364.41,15528.689999999999,77725.79000000001,49150.73,48153.56999999999,82611.06,21366.620000000003,39244.99,56477.119999999995,63231.09999999999,76561.17,73434.58,61259.18,94955.87,50548.350000000006,55793.630000000005,27971.170000000002],\"type\":\"choropleth\"}],                        {\"template\":{\"data\":{\"histogram2dcontour\":[{\"type\":\"histogram2dcontour\",\"colorbar\":{\"outlinewidth\":0,\"ticks\":\"\"},\"colorscale\":[[0.0,\"#0d0887\"],[0.1111111111111111,\"#46039f\"],[0.2222222222222222,\"#7201a8\"],[0.3333333333333333,\"#9c179e\"],[0.4444444444444444,\"#bd3786\"],[0.5555555555555556,\"#d8576b\"],[0.6666666666666666,\"#ed7953\"],[0.7777777777777778,\"#fb9f3a\"],[0.8888888888888888,\"#fdca26\"],[1.0,\"#f0f921\"]]}],\"choropleth\":[{\"type\":\"choropleth\",\"colorbar\":{\"outlinewidth\":0,\"ticks\":\"\"}}],\"histogram2d\":[{\"type\":\"histogram2d\",\"colorbar\":{\"outlinewidth\":0,\"ticks\":\"\"},\"colorscale\":[[0.0,\"#0d0887\"],[0.1111111111111111,\"#46039f\"],[0.2222222222222222,\"#7201a8\"],[0.3333333333333333,\"#9c179e\"],[0.4444444444444444,\"#bd3786\"],[0.5555555555555556,\"#d8576b\"],[0.6666666666666666,\"#ed7953\"],[0.7777777777777778,\"#fb9f3a\"],[0.8888888888888888,\"#fdca26\"],[1.0,\"#f0f921\"]]}],\"heatmap\":[{\"type\":\"heatmap\",\"colorbar\":{\"outlinewidth\":0,\"ticks\":\"\"},\"colorscale\":[[0.0,\"#0d0887\"],[0.1111111111111111,\"#46039f\"],[0.2222222222222222,\"#7201a8\"],[0.3333333333333333,\"#9c179e\"],[0.4444444444444444,\"#bd3786\"],[0.5555555555555556,\"#d8576b\"],[0.6666666666666666,\"#ed7953\"],[0.7777777777777778,\"#fb9f3a\"],[0.8888888888888888,\"#fdca26\"],[1.0,\"#f0f921\"]]}],\"heatmapgl\":[{\"type\":\"heatmapgl\",\"colorbar\":{\"outlinewidth\":0,\"ticks\":\"\"},\"colorscale\":[[0.0,\"#0d0887\"],[0.1111111111111111,\"#46039f\"],[0.2222222222222222,\"#7201a8\"],[0.3333333333333333,\"#9c179e\"],[0.4444444444444444,\"#bd3786\"],[0.5555555555555556,\"#d8576b\"],[0.6666666666666666,\"#ed7953\"],[0.7777777777777778,\"#fb9f3a\"],[0.8888888888888888,\"#fdca26\"],[1.0,\"#f0f921\"]]}],\"contourcarpet\":[{\"type\":\"contourcarpet\",\"colorbar\":{\"outlinewidth\":0,\"ticks\":\"\"}}],\"contour\":[{\"type\":\"contour\",\"colorbar\":{\"outlinewidth\":0,\"ticks\":\"\"},\"colorscale\":[[0.0,\"#0d0887\"],[0.1111111111111111,\"#46039f\"],[0.2222222222222222,\"#7201a8\"],[0.3333333333333333,\"#9c179e\"],[0.4444444444444444,\"#bd3786\"],[0.5555555555555556,\"#d8576b\"],[0.6666666666666666,\"#ed7953\"],[0.7777777777777778,\"#fb9f3a\"],[0.8888888888888888,\"#fdca26\"],[1.0,\"#f0f921\"]]}],\"surface\":[{\"type\":\"surface\",\"colorbar\":{\"outlinewidth\":0,\"ticks\":\"\"},\"colorscale\":[[0.0,\"#0d0887\"],[0.1111111111111111,\"#46039f\"],[0.2222222222222222,\"#7201a8\"],[0.3333333333333333,\"#9c179e\"],[0.4444444444444444,\"#bd3786\"],[0.5555555555555556,\"#d8576b\"],[0.6666666666666666,\"#ed7953\"],[0.7777777777777778,\"#fb9f3a\"],[0.8888888888888888,\"#fdca26\"],[1.0,\"#f0f921\"]]}],\"mesh3d\":[{\"type\":\"mesh3d\",\"colorbar\":{\"outlinewidth\":0,\"ticks\":\"\"}}],\"scatter\":[{\"fillpattern\":{\"fillmode\":\"overlay\",\"size\":10,\"solidity\":0.2},\"type\":\"scatter\"}],\"parcoords\":[{\"type\":\"parcoords\",\"line\":{\"colorbar\":{\"outlinewidth\":0,\"ticks\":\"\"}}}],\"scatterpolargl\":[{\"type\":\"scatterpolargl\",\"marker\":{\"colorbar\":{\"outlinewidth\":0,\"ticks\":\"\"}}}],\"bar\":[{\"error_x\":{\"color\":\"#2a3f5f\"},\"error_y\":{\"color\":\"#2a3f5f\"},\"marker\":{\"line\":{\"color\":\"#E5ECF6\",\"width\":0.5},\"pattern\":{\"fillmode\":\"overlay\",\"size\":10,\"solidity\":0.2}},\"type\":\"bar\"}],\"scattergeo\":[{\"type\":\"scattergeo\",\"marker\":{\"colorbar\":{\"outlinewidth\":0,\"ticks\":\"\"}}}],\"scatterpolar\":[{\"type\":\"scatterpolar\",\"marker\":{\"colorbar\":{\"outlinewidth\":0,\"ticks\":\"\"}}}],\"histogram\":[{\"marker\":{\"pattern\":{\"fillmode\":\"overlay\",\"size\":10,\"solidity\":0.2}},\"type\":\"histogram\"}],\"scattergl\":[{\"type\":\"scattergl\",\"marker\":{\"colorbar\":{\"outlinewidth\":0,\"ticks\":\"\"}}}],\"scatter3d\":[{\"type\":\"scatter3d\",\"line\":{\"colorbar\":{\"outlinewidth\":0,\"ticks\":\"\"}},\"marker\":{\"colorbar\":{\"outlinewidth\":0,\"ticks\":\"\"}}}],\"scattermapbox\":[{\"type\":\"scattermapbox\",\"marker\":{\"colorbar\":{\"outlinewidth\":0,\"ticks\":\"\"}}}],\"scatterternary\":[{\"type\":\"scatterternary\",\"marker\":{\"colorbar\":{\"outlinewidth\":0,\"ticks\":\"\"}}}],\"scattercarpet\":[{\"type\":\"scattercarpet\",\"marker\":{\"colorbar\":{\"outlinewidth\":0,\"ticks\":\"\"}}}],\"carpet\":[{\"aaxis\":{\"endlinecolor\":\"#2a3f5f\",\"gridcolor\":\"white\",\"linecolor\":\"white\",\"minorgridcolor\":\"white\",\"startlinecolor\":\"#2a3f5f\"},\"baxis\":{\"endlinecolor\":\"#2a3f5f\",\"gridcolor\":\"white\",\"linecolor\":\"white\",\"minorgridcolor\":\"white\",\"startlinecolor\":\"#2a3f5f\"},\"type\":\"carpet\"}],\"table\":[{\"cells\":{\"fill\":{\"color\":\"#EBF0F8\"},\"line\":{\"color\":\"white\"}},\"header\":{\"fill\":{\"color\":\"#C8D4E3\"},\"line\":{\"color\":\"white\"}},\"type\":\"table\"}],\"barpolar\":[{\"marker\":{\"line\":{\"color\":\"#E5ECF6\",\"width\":0.5},\"pattern\":{\"fillmode\":\"overlay\",\"size\":10,\"solidity\":0.2}},\"type\":\"barpolar\"}],\"pie\":[{\"automargin\":true,\"type\":\"pie\"}]},\"layout\":{\"autotypenumbers\":\"strict\",\"colorway\":[\"#636efa\",\"#EF553B\",\"#00cc96\",\"#ab63fa\",\"#FFA15A\",\"#19d3f3\",\"#FF6692\",\"#B6E880\",\"#FF97FF\",\"#FECB52\"],\"font\":{\"color\":\"#2a3f5f\"},\"hovermode\":\"closest\",\"hoverlabel\":{\"align\":\"left\"},\"paper_bgcolor\":\"white\",\"plot_bgcolor\":\"#E5ECF6\",\"polar\":{\"bgcolor\":\"#E5ECF6\",\"angularaxis\":{\"gridcolor\":\"white\",\"linecolor\":\"white\",\"ticks\":\"\"},\"radialaxis\":{\"gridcolor\":\"white\",\"linecolor\":\"white\",\"ticks\":\"\"}},\"ternary\":{\"bgcolor\":\"#E5ECF6\",\"aaxis\":{\"gridcolor\":\"white\",\"linecolor\":\"white\",\"ticks\":\"\"},\"baxis\":{\"gridcolor\":\"white\",\"linecolor\":\"white\",\"ticks\":\"\"},\"caxis\":{\"gridcolor\":\"white\",\"linecolor\":\"white\",\"ticks\":\"\"}},\"coloraxis\":{\"colorbar\":{\"outlinewidth\":0,\"ticks\":\"\"}},\"colorscale\":{\"sequential\":[[0.0,\"#0d0887\"],[0.1111111111111111,\"#46039f\"],[0.2222222222222222,\"#7201a8\"],[0.3333333333333333,\"#9c179e\"],[0.4444444444444444,\"#bd3786\"],[0.5555555555555556,\"#d8576b\"],[0.6666666666666666,\"#ed7953\"],[0.7777777777777778,\"#fb9f3a\"],[0.8888888888888888,\"#fdca26\"],[1.0,\"#f0f921\"]],\"sequentialminus\":[[0.0,\"#0d0887\"],[0.1111111111111111,\"#46039f\"],[0.2222222222222222,\"#7201a8\"],[0.3333333333333333,\"#9c179e\"],[0.4444444444444444,\"#bd3786\"],[0.5555555555555556,\"#d8576b\"],[0.6666666666666666,\"#ed7953\"],[0.7777777777777778,\"#fb9f3a\"],[0.8888888888888888,\"#fdca26\"],[1.0,\"#f0f921\"]],\"diverging\":[[0,\"#8e0152\"],[0.1,\"#c51b7d\"],[0.2,\"#de77ae\"],[0.3,\"#f1b6da\"],[0.4,\"#fde0ef\"],[0.5,\"#f7f7f7\"],[0.6,\"#e6f5d0\"],[0.7,\"#b8e186\"],[0.8,\"#7fbc41\"],[0.9,\"#4d9221\"],[1,\"#276419\"]]},\"xaxis\":{\"gridcolor\":\"white\",\"linecolor\":\"white\",\"ticks\":\"\",\"title\":{\"standoff\":15},\"zerolinecolor\":\"white\",\"automargin\":true,\"zerolinewidth\":2},\"yaxis\":{\"gridcolor\":\"white\",\"linecolor\":\"white\",\"ticks\":\"\",\"title\":{\"standoff\":15},\"zerolinecolor\":\"white\",\"automargin\":true,\"zerolinewidth\":2},\"scene\":{\"xaxis\":{\"backgroundcolor\":\"#E5ECF6\",\"gridcolor\":\"white\",\"linecolor\":\"white\",\"showbackground\":true,\"ticks\":\"\",\"zerolinecolor\":\"white\",\"gridwidth\":2},\"yaxis\":{\"backgroundcolor\":\"#E5ECF6\",\"gridcolor\":\"white\",\"linecolor\":\"white\",\"showbackground\":true,\"ticks\":\"\",\"zerolinecolor\":\"white\",\"gridwidth\":2},\"zaxis\":{\"backgroundcolor\":\"#E5ECF6\",\"gridcolor\":\"white\",\"linecolor\":\"white\",\"showbackground\":true,\"ticks\":\"\",\"zerolinecolor\":\"white\",\"gridwidth\":2}},\"shapedefaults\":{\"line\":{\"color\":\"#2a3f5f\"}},\"annotationdefaults\":{\"arrowcolor\":\"#2a3f5f\",\"arrowhead\":0,\"arrowwidth\":1},\"geo\":{\"bgcolor\":\"white\",\"landcolor\":\"#E5ECF6\",\"subunitcolor\":\"white\",\"showland\":true,\"showlakes\":true,\"lakecolor\":\"white\"},\"title\":{\"x\":0.05},\"mapbox\":{\"style\":\"light\"}}},\"geo\":{\"domain\":{\"x\":[0.0,1.0],\"y\":[0.0,1.0]},\"center\":{}},\"coloraxis\":{\"colorbar\":{\"title\":{\"text\":\"Total Value (in USD)\"}},\"colorscale\":[[0.0,\"#0d0887\"],[0.1111111111111111,\"#46039f\"],[0.2222222222222222,\"#7201a8\"],[0.3333333333333333,\"#9c179e\"],[0.4444444444444444,\"#bd3786\"],[0.5555555555555556,\"#d8576b\"],[0.6666666666666666,\"#ed7953\"],[0.7777777777777778,\"#fb9f3a\"],[0.8888888888888888,\"#fdca26\"],[1.0,\"#f0f921\"]]},\"legend\":{\"tracegroupgap\":0},\"title\":{\"text\":\"Total Import and Export Values by Country\"},\"width\":1000,\"height\":600},                        {\"responsive\": true}                    ).then(function(){\n",
       "                            \n",
       "var gd = document.getElementById('68c2ac53-963a-4786-89d5-9724326caa60');\n",
       "var x = new MutationObserver(function (mutations, observer) {{\n",
       "        var display = window.getComputedStyle(gd).display;\n",
       "        if (!display || display === 'none') {{\n",
       "            console.log([gd, 'removed!']);\n",
       "            Plotly.purge(gd);\n",
       "            observer.disconnect();\n",
       "        }}\n",
       "}});\n",
       "\n",
       "// Listen for the removal of the full notebook cells\n",
       "var notebookContainer = gd.closest('#notebook-container');\n",
       "if (notebookContainer) {{\n",
       "    x.observe(notebookContainer, {childList: true});\n",
       "}}\n",
       "\n",
       "// Listen for the clearing of the current output cell\n",
       "var outputEl = gd.closest('.output');\n",
       "if (outputEl) {{\n",
       "    x.observe(outputEl, {childList: true});\n",
       "}}\n",
       "\n",
       "                        })                };                });            </script>        </div>"
      ]
     },
     "metadata": {},
     "output_type": "display_data"
    }
   ],
   "source": [
    "\n",
    "# Group the data by country and import/export status\n",
    "country_values = df_sample.groupby(['Country', 'Import_Export'])['Value'].sum().reset_index()\n",
    "\n",
    "# Pivot the data for plotting\n",
    "country_values_pivot = country_values.pivot(index='Country', columns='Import_Export', values='Value').fillna(0)\n",
    "\n",
    "# Create a new column for total value\n",
    "country_values_pivot['Total'] = country_values_pivot.sum(axis=1)\n",
    "\n",
    "# Create a map chart\n",
    "fig = px.choropleth(country_values_pivot,\n",
    "                    locations=country_values_pivot.index,\n",
    "                    locationmode='country names',  # Use country names\n",
    "                    color='Total',  # Color based on total value\n",
    "                    hover_name=country_values_pivot.index,\n",
    "                    title='Total Import and Export Values by Country',\n",
    "                    color_continuous_scale=px.colors.sequential.Plasma,\n",
    "                    labels={'Total': 'Total Value (in USD)'})\n",
    "\n",
    "# Update layout for larger size\n",
    "fig.update_layout(width=1000, height=600)  # Adjust the width and height as desired\n",
    "\n",
    "# Show the figure\n",
    "fig.show()"
   ]
  },
  {
   "cell_type": "code",
   "execution_count": null,
   "id": "0c2c8950-5aec-4726-84db-dd3eccebca6d",
   "metadata": {},
   "outputs": [],
   "source": []
  }
 ],
 "metadata": {
  "kernelspec": {
   "display_name": "Python 3 (ipykernel)",
   "language": "python",
   "name": "python3"
  },
  "language_info": {
   "codemirror_mode": {
    "name": "ipython",
    "version": 3
   },
   "file_extension": ".py",
   "mimetype": "text/x-python",
   "name": "python",
   "nbconvert_exporter": "python",
   "pygments_lexer": "ipython3",
   "version": "3.12.4"
  }
 },
 "nbformat": 4,
 "nbformat_minor": 5
}
